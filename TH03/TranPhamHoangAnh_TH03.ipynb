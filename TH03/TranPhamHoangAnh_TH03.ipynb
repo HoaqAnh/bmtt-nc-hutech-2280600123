{
 "cells": [
  {
   "cell_type": "markdown",
   "metadata": {},
   "source": [
    "<div class=\"alert alert-block alert-info\"><h1>1.6.3 Bài thực hành 03: List, Tuple, Dictionary</h1></div>"
   ]
  }
 ],
 "metadata": {
  "language_info": {
   "name": "python"
  }
 },
 "nbformat": 4,
 "nbformat_minor": 2
}
